{
 "cells": [
  {
   "cell_type": "markdown",
   "metadata": {},
   "source": [
    "### **Coursera Dataset**"
   ]
  },
  {
   "cell_type": "code",
   "execution_count": 2,
   "metadata": {},
   "outputs": [],
   "source": [
    "import pandas as pd"
   ]
  },
  {
   "cell_type": "code",
   "execution_count": 3,
   "metadata": {},
   "outputs": [
    {
     "data": {
      "text/html": [
       "<div>\n",
       "<style scoped>\n",
       "    .dataframe tbody tr th:only-of-type {\n",
       "        vertical-align: middle;\n",
       "    }\n",
       "\n",
       "    .dataframe tbody tr th {\n",
       "        vertical-align: top;\n",
       "    }\n",
       "\n",
       "    .dataframe thead th {\n",
       "        text-align: right;\n",
       "    }\n",
       "</style>\n",
       "<table border=\"1\" class=\"dataframe\">\n",
       "  <thead>\n",
       "    <tr style=\"text-align: right;\">\n",
       "      <th></th>\n",
       "      <th>Course Name</th>\n",
       "      <th>Provider</th>\n",
       "      <th>Skills Gained</th>\n",
       "      <th>Rating &amp; Reviews</th>\n",
       "      <th>Level &amp; Duration</th>\n",
       "      <th>Course Image</th>\n",
       "      <th>Provider Image</th>\n",
       "      <th>Course Link</th>\n",
       "    </tr>\n",
       "  </thead>\n",
       "  <tbody>\n",
       "    <tr>\n",
       "      <th>0</th>\n",
       "      <td>Generative AI: Prompt Engineering Basics</td>\n",
       "      <td>IBM</td>\n",
       "      <td>ChatGPT, Generative AI, IBM Cloud</td>\n",
       "      <td>4.8 stars</td>\n",
       "      <td>1 - 4 Weeks</td>\n",
       "      <td>https://d3njjcbhbojbot.cloudfront.net/api/util...</td>\n",
       "      <td>https://d3njjcbhbojbot.cloudfront.net/api/util...</td>\n",
       "      <td>https://www.coursera.org/learn/generative-ai-p...</td>\n",
       "    </tr>\n",
       "    <tr>\n",
       "      <th>1</th>\n",
       "      <td>Exam Prep AI-102: Microsoft Azure AI Engineer ...</td>\n",
       "      <td>Whizlabs</td>\n",
       "      <td>Microsoft Azure, Data Ethics, Natural Language...</td>\n",
       "      <td>3.3 stars</td>\n",
       "      <td>1 - 3 Months</td>\n",
       "      <td>https://d3njjcbhbojbot.cloudfront.net/api/util...</td>\n",
       "      <td>https://d3njjcbhbojbot.cloudfront.net/api/util...</td>\n",
       "      <td>https://www.coursera.org/learn/ai-102-microsof...</td>\n",
       "    </tr>\n",
       "    <tr>\n",
       "      <th>2</th>\n",
       "      <td>Python for Data Science, AI &amp; Development</td>\n",
       "      <td>Python for Data Science</td>\n",
       "      <td>Jupyter, Automation, Web Scraping</td>\n",
       "      <td>AI &amp; Development Course by IBM</td>\n",
       "      <td>1 - 3 Months</td>\n",
       "      <td>https://d3njjcbhbojbot.cloudfront.net/api/util...</td>\n",
       "      <td>https://d3njjcbhbojbot.cloudfront.net/api/util...</td>\n",
       "      <td>https://www.coursera.org/learn/python-for-appl...</td>\n",
       "    </tr>\n",
       "    <tr>\n",
       "      <th>3</th>\n",
       "      <td>IBM AI Engineering</td>\n",
       "      <td>IBM</td>\n",
       "      <td>PyTorch (Machine Learning Library), Supervised...</td>\n",
       "      <td>4.6 stars</td>\n",
       "      <td>3 - 6 Months</td>\n",
       "      <td>https://d3njjcbhbojbot.cloudfront.net/api/util...</td>\n",
       "      <td>https://d3njjcbhbojbot.cloudfront.net/api/util...</td>\n",
       "      <td>https://www.coursera.org/professional-certific...</td>\n",
       "    </tr>\n",
       "    <tr>\n",
       "      <th>4</th>\n",
       "      <td>IBM Generative AI Engineering</td>\n",
       "      <td>IBM</td>\n",
       "      <td>Generative AI, Data Wrangling, Unit Testing</td>\n",
       "      <td>4.6 stars</td>\n",
       "      <td>3 - 6 Months</td>\n",
       "      <td>https://d3njjcbhbojbot.cloudfront.net/api/util...</td>\n",
       "      <td>https://d3njjcbhbojbot.cloudfront.net/api/util...</td>\n",
       "      <td>https://www.coursera.org/professional-certific...</td>\n",
       "    </tr>\n",
       "  </tbody>\n",
       "</table>\n",
       "</div>"
      ],
      "text/plain": [
       "                                         Course Name                 Provider  \\\n",
       "0           Generative AI: Prompt Engineering Basics                      IBM   \n",
       "1  Exam Prep AI-102: Microsoft Azure AI Engineer ...                 Whizlabs   \n",
       "2          Python for Data Science, AI & Development  Python for Data Science   \n",
       "3                                 IBM AI Engineering                      IBM   \n",
       "4                      IBM Generative AI Engineering                      IBM   \n",
       "\n",
       "                                       Skills Gained  \\\n",
       "0                  ChatGPT, Generative AI, IBM Cloud   \n",
       "1  Microsoft Azure, Data Ethics, Natural Language...   \n",
       "2                  Jupyter, Automation, Web Scraping   \n",
       "3  PyTorch (Machine Learning Library), Supervised...   \n",
       "4        Generative AI, Data Wrangling, Unit Testing   \n",
       "\n",
       "                 Rating & Reviews Level & Duration  \\\n",
       "0                       4.8 stars      1 - 4 Weeks   \n",
       "1                       3.3 stars     1 - 3 Months   \n",
       "2  AI & Development Course by IBM     1 - 3 Months   \n",
       "3                       4.6 stars     3 - 6 Months   \n",
       "4                       4.6 stars     3 - 6 Months   \n",
       "\n",
       "                                        Course Image  \\\n",
       "0  https://d3njjcbhbojbot.cloudfront.net/api/util...   \n",
       "1  https://d3njjcbhbojbot.cloudfront.net/api/util...   \n",
       "2  https://d3njjcbhbojbot.cloudfront.net/api/util...   \n",
       "3  https://d3njjcbhbojbot.cloudfront.net/api/util...   \n",
       "4  https://d3njjcbhbojbot.cloudfront.net/api/util...   \n",
       "\n",
       "                                      Provider Image  \\\n",
       "0  https://d3njjcbhbojbot.cloudfront.net/api/util...   \n",
       "1  https://d3njjcbhbojbot.cloudfront.net/api/util...   \n",
       "2  https://d3njjcbhbojbot.cloudfront.net/api/util...   \n",
       "3  https://d3njjcbhbojbot.cloudfront.net/api/util...   \n",
       "4  https://d3njjcbhbojbot.cloudfront.net/api/util...   \n",
       "\n",
       "                                         Course Link  \n",
       "0  https://www.coursera.org/learn/generative-ai-p...  \n",
       "1  https://www.coursera.org/learn/ai-102-microsof...  \n",
       "2  https://www.coursera.org/learn/python-for-appl...  \n",
       "3  https://www.coursera.org/professional-certific...  \n",
       "4  https://www.coursera.org/professional-certific...  "
      ]
     },
     "execution_count": 3,
     "metadata": {},
     "output_type": "execute_result"
    }
   ],
   "source": [
    "df_c = pd.read_csv('./Dataset/Coursera/Coursera_combined_data.csv')\n",
    "df_c.head()"
   ]
  },
  {
   "cell_type": "markdown",
   "metadata": {},
   "source": [
    "### Data Understanding"
   ]
  },
  {
   "cell_type": "code",
   "execution_count": 4,
   "metadata": {},
   "outputs": [
    {
     "name": "stdout",
     "output_type": "stream",
     "text": [
      "Shape:  (800, 8) \n",
      "\n",
      "Duplicated rows:  215 \n",
      "\n",
      "Total Number of Missing Value: \n",
      " Course Name         0\n",
      "Provider            0\n",
      "Skills Gained       0\n",
      "Rating & Reviews    0\n",
      "Level & Duration    0\n",
      "Course Image        0\n",
      "Provider Image      0\n",
      "Course Link         0\n",
      "dtype: int64\n"
     ]
    }
   ],
   "source": [
    "print(\"Shape: \", df_c.shape, \"\\n\")\n",
    "duplicated_rows = df_c.duplicated().sum()\n",
    "print(\"Duplicated rows: \", duplicated_rows, \"\\n\")\n",
    "print(\"Total Number of Missing Value:\", \"\\n\", df_c.isna().sum())"
   ]
  },
  {
   "cell_type": "markdown",
   "metadata": {},
   "source": [
    "### Data preprocessing"
   ]
  },
  {
   "cell_type": "code",
   "execution_count": 5,
   "metadata": {},
   "outputs": [
    {
     "name": "stdout",
     "output_type": "stream",
     "text": [
      "After removing duplicates:  (585, 8)\n"
     ]
    }
   ],
   "source": [
    "df_c = df_c.drop_duplicates()\n",
    "print(\"After removing duplicates: \", df_c.shape)"
   ]
  },
  {
   "cell_type": "code",
   "execution_count": 6,
   "metadata": {},
   "outputs": [
    {
     "name": "stdout",
     "output_type": "stream",
     "text": [
      "Number of rows:  88\n"
     ]
    }
   ],
   "source": [
    "# Check how many rows of column \"Rating & Reviews\" do not start with a number\n",
    "non_number_rows = df_c[~df_c['Rating & Reviews'].str.match(r'^\\d')].shape[0]\n",
    "print(\"Number of rows: \", non_number_rows)"
   ]
  },
  {
   "cell_type": "code",
   "execution_count": 7,
   "metadata": {},
   "outputs": [],
   "source": [
    "# Extract the numeric part from \"Rating & Reviews\" column into \"Rating Score\" column\n",
    "df_c['Rating Score'] = df_c['Rating & Reviews'].str.extract(r'(\\d+\\.\\d+)').astype(float)\n",
    "# Replace the missing values in \"Rating Score\" with the mean of the column\n",
    "df_c['Rating Score'] = df_c['Rating Score'].fillna(df_c['Rating Score'].mean())\n",
    "df_c['Rating Score'] = df_c['Rating Score'].round(1)"
   ]
  },
  {
   "cell_type": "markdown",
   "metadata": {},
   "source": [
    "### Embeddings for column \"Skills Gained\" and create a new column \"Embeddings skills\"."
   ]
  },
  {
   "cell_type": "code",
   "execution_count": 8,
   "metadata": {},
   "outputs": [
    {
     "name": "stderr",
     "output_type": "stream",
     "text": [
      "c:\\Users\\User\\anaconda3\\envs\\tf_env\\Lib\\site-packages\\tqdm\\auto.py:21: TqdmWarning: IProgress not found. Please update jupyter and ipywidgets. See https://ipywidgets.readthedocs.io/en/stable/user_install.html\n",
      "  from .autonotebook import tqdm as notebook_tqdm\n"
     ]
    },
    {
     "name": "stdout",
     "output_type": "stream",
     "text": [
      "WARNING:tensorflow:From c:\\Users\\User\\anaconda3\\envs\\tf_env\\Lib\\site-packages\\tf_keras\\src\\losses.py:2976: The name tf.losses.sparse_softmax_cross_entropy is deprecated. Please use tf.compat.v1.losses.sparse_softmax_cross_entropy instead.\n",
      "\n"
     ]
    },
    {
     "name": "stderr",
     "output_type": "stream",
     "text": [
      "Batches: 100%|██████████| 19/19 [00:01<00:00, 13.36it/s]"
     ]
    },
    {
     "name": "stdout",
     "output_type": "stream",
     "text": [
      "Embeddings for skills successfully added to the dataframe!\n"
     ]
    },
    {
     "name": "stderr",
     "output_type": "stream",
     "text": [
      "\n"
     ]
    }
   ],
   "source": [
    "# Embedding the Coursera Data columns \"Skills\" using Sentence Transformers\n",
    "from sentence_transformers import SentenceTransformer\n",
    "\n",
    "model = SentenceTransformer('all-MiniLM-L6-v2')\n",
    "\n",
    "# Compute embeddings\n",
    "skills = df_c['Skills Gained'].tolist()\n",
    "embeddings2 = model.encode(skills, show_progress_bar=True)\n",
    "\n",
    "df_c['Embeddings skills'] = list(embeddings2)\n",
    "print(\"Embeddings for skills successfully added to the dataframe!\")"
   ]
  },
  {
   "cell_type": "markdown",
   "metadata": {},
   "source": [
    "### Save to the new file name of Completed_Data"
   ]
  },
  {
   "cell_type": "code",
   "execution_count": 9,
   "metadata": {},
   "outputs": [],
   "source": [
    "df_c.to_pickle(\"./Dataset/Coursera/Coursera_after_embeddings.pkl\")\n",
    "df_c.to_csv(\"./Dataset/Coursera/Coursera_Completed_Data.csv\", index=False)"
   ]
  }
 ],
 "metadata": {
  "kernelspec": {
   "display_name": "tf_env",
   "language": "python",
   "name": "python3"
  },
  "language_info": {
   "codemirror_mode": {
    "name": "ipython",
    "version": 3
   },
   "file_extension": ".py",
   "mimetype": "text/x-python",
   "name": "python",
   "nbconvert_exporter": "python",
   "pygments_lexer": "ipython3",
   "version": "3.11.9"
  }
 },
 "nbformat": 4,
 "nbformat_minor": 2
}
